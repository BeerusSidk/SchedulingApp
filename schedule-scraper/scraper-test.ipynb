{
 "cells": [
  {
   "cell_type": "code",
   "execution_count": 217,
   "id": "initial_id",
   "metadata": {
    "collapsed": true,
    "ExecuteTime": {
     "end_time": "2023-11-01T03:43:11.320211386Z",
     "start_time": "2023-11-01T03:43:11.312234761Z"
    }
   },
   "outputs": [],
   "source": [
    "import json\n",
    "import re\n",
    "\n",
    "import mysql.connector\n",
    "import requests\n",
    "from mysql.connector import IntegrityError\n"
   ]
  },
  {
   "cell_type": "code",
   "execution_count": 321,
   "outputs": [],
   "source": [
    "def insert_course(course_info: dict):\n",
    "    if course_info is None: return\n",
    "    \n",
    "    connection = mysql.connector.connect(\n",
    "        host=\"coms-309-029.class.las.iastate.edu\",\n",
    "        port=3306,\n",
    "        user=\"root\",\n",
    "        password=\"5b36fb66f5d37314\",\n",
    "        database=\"Scheduler\"\n",
    "    )\n",
    "    cursor = connection.cursor()\n",
    "\n",
    "    sql = (\n",
    "        \"INSERT INTO Course (program_identifier, num, display_name, description, credits, is_variable_credit, is_graded)\" +\n",
    "        \"VALUES (%s, %s, %s, %s, %s, %s, %s)\"\n",
    "    )\n",
    "    values = (\n",
    "        course_info[\"program_identifier\"],\n",
    "        course_info[\"num\"],\n",
    "        course_info[\"displayName\"],\n",
    "        course_info[\"description\"].encode(\"latin-1\").decode(\"utf-8\"),\n",
    "        course_info[\"credits\"],\n",
    "        course_info[\"is_variable_credit\"],\n",
    "        course_info[\"is_graded\"]\n",
    "    )\n",
    "    \n",
    "    try:\n",
    "        cursor.execute(sql, values)\n",
    "    except IntegrityError:\n",
    "        print(f\"Duplicate entry: {course_info['program_identifier']} {course_info['num']}\")\n",
    "\n",
    "    connection.commit()\n",
    "    cursor.close()\n",
    "    connection.close()"
   ],
   "metadata": {
    "collapsed": false,
    "ExecuteTime": {
     "end_time": "2023-11-01T04:12:57.047465958Z",
     "start_time": "2023-11-01T04:12:57.004550237Z"
    }
   },
   "id": "34919264f813f828"
  },
  {
   "cell_type": "code",
   "execution_count": 346,
   "outputs": [],
   "source": [
    "def scrape_course(program: str, num: int, sem: int = 3) -> tuple[dict, dict] | None:\n",
    "    url = \"https://classes.iastate.edu/app/rest/courses/preferences\"\n",
    "    headers: dict = {\"Content-Type\": \"application/json\"}\n",
    "    payload: str = json.dumps({\n",
    "        \"defSem\": sem,\n",
    "        \"selectedTerm\": sem,\n",
    "        \"selectedDepartment\": program,\n",
    "        \"courseNumber\": num\n",
    "    })\n",
    "\n",
    "    response: dict = requests.post(url, headers=headers, data=payload).json()\n",
    "    if len(response[\"response\"]) == 0: return None\n",
    "    course_data: dict = response[\"response\"][0]\n",
    "    catalog_data: str = requests.get(course_data[\"catalogUrl\"]).text\n",
    "    \n",
    "    # Don't want experimental courses\n",
    "    if course_data[\"classNumber\"][-1] == \"X\": return None\n",
    "    try:\n",
    "        return {\n",
    "            \"program_identifier\": course_data[\"deptCode\"],\n",
    "            \"num\": int(re.search(r\"([0-9]{1,3})[a-zA-Z]{,3}\", course_data[\"classNumber\"]).group(1)),\n",
    "            \"displayName\": re.search(r\"&#160;[0-9]{1,3}[A-Za-z]{,3}:(.+)</strong>\", catalog_data, re.DOTALL).group(1).strip() if len(catalog_data) > 55 else None,\n",
    "            \"description\": re.search(r\"><br />(.+)</p>\", catalog_data, re.DOTALL).group(1).strip() if len(catalog_data) > 55 else None,\n",
    "            \"credits\": int(course_data[\"creditLow\"]),\n",
    "            \"is_variable_credit\": course_data[\"creditType\"] == 'V',\n",
    "            \"is_graded\": course_data[\"gradeType\"] == \"\"\n",
    "        }, course_data\n",
    "    except AttributeError:\n",
    "        return None\n"
   ],
   "metadata": {
    "collapsed": false,
    "ExecuteTime": {
     "end_time": "2023-11-01T04:22:56.567797175Z",
     "start_time": "2023-11-01T04:22:56.524710956Z"
    }
   },
   "id": "930f76942f59f6fc"
  },
  {
   "cell_type": "code",
   "execution_count": null,
   "outputs": [
    {
     "name": "stdout",
     "output_type": "stream",
     "text": [
      "STAT 100 doesn't exist\n",
      "Inserting STAT 101\n",
      "STAT 102 doesn't exist\n",
      "STAT 103 doesn't exist\n",
      "Inserting STAT 104\n",
      "STAT 105 doesn't exist\n",
      "STAT 106 doesn't exist\n",
      "STAT 107 doesn't exist\n",
      "STAT 108 doesn't exist\n",
      "STAT 109 doesn't exist\n",
      "STAT 110 doesn't exist\n",
      "STAT 111 doesn't exist\n",
      "STAT 112 doesn't exist\n",
      "STAT 113 doesn't exist\n",
      "STAT 114 doesn't exist\n",
      "STAT 115 doesn't exist\n",
      "STAT 116 doesn't exist\n",
      "STAT 117 doesn't exist\n",
      "STAT 118 doesn't exist\n",
      "STAT 119 doesn't exist\n",
      "STAT 120 doesn't exist\n",
      "STAT 121 doesn't exist\n",
      "STAT 122 doesn't exist\n",
      "STAT 123 doesn't exist\n",
      "STAT 124 doesn't exist\n",
      "STAT 125 doesn't exist\n",
      "STAT 126 doesn't exist\n",
      "STAT 127 doesn't exist\n",
      "STAT 128 doesn't exist\n",
      "STAT 129 doesn't exist\n",
      "STAT 130 doesn't exist\n",
      "STAT 131 doesn't exist\n",
      "STAT 132 doesn't exist\n",
      "STAT 133 doesn't exist\n",
      "STAT 134 doesn't exist\n",
      "STAT 135 doesn't exist\n",
      "STAT 136 doesn't exist\n",
      "STAT 137 doesn't exist\n",
      "STAT 138 doesn't exist\n",
      "STAT 139 doesn't exist\n",
      "STAT 140 doesn't exist\n",
      "STAT 141 doesn't exist\n",
      "STAT 142 doesn't exist\n",
      "STAT 143 doesn't exist\n",
      "STAT 144 doesn't exist\n",
      "STAT 145 doesn't exist\n",
      "STAT 146 doesn't exist\n",
      "STAT 147 doesn't exist\n",
      "STAT 148 doesn't exist\n",
      "STAT 149 doesn't exist\n",
      "STAT 150 doesn't exist\n",
      "STAT 151 doesn't exist\n",
      "STAT 152 doesn't exist\n",
      "STAT 153 doesn't exist\n",
      "STAT 154 doesn't exist\n",
      "STAT 155 doesn't exist\n",
      "STAT 156 doesn't exist\n",
      "STAT 157 doesn't exist\n",
      "STAT 158 doesn't exist\n",
      "STAT 159 doesn't exist\n",
      "STAT 160 doesn't exist\n",
      "STAT 161 doesn't exist\n",
      "STAT 162 doesn't exist\n",
      "STAT 163 doesn't exist\n",
      "STAT 164 doesn't exist\n",
      "STAT 165 doesn't exist\n",
      "STAT 166 doesn't exist\n",
      "STAT 167 doesn't exist\n",
      "STAT 168 doesn't exist\n",
      "STAT 169 doesn't exist\n",
      "STAT 170 doesn't exist\n",
      "STAT 171 doesn't exist\n",
      "STAT 172 doesn't exist\n",
      "STAT 173 doesn't exist\n",
      "STAT 174 doesn't exist\n",
      "STAT 175 doesn't exist\n",
      "STAT 176 doesn't exist\n",
      "STAT 177 doesn't exist\n",
      "STAT 178 doesn't exist\n",
      "STAT 179 doesn't exist\n",
      "STAT 180 doesn't exist\n",
      "STAT 181 doesn't exist\n",
      "STAT 182 doesn't exist\n",
      "STAT 183 doesn't exist\n",
      "STAT 184 doesn't exist\n",
      "STAT 185 doesn't exist\n",
      "STAT 186 doesn't exist\n",
      "STAT 187 doesn't exist\n",
      "STAT 188 doesn't exist\n",
      "STAT 189 doesn't exist\n",
      "STAT 190 doesn't exist\n",
      "STAT 191 doesn't exist\n",
      "STAT 192 doesn't exist\n",
      "STAT 193 doesn't exist\n"
     ]
    }
   ],
   "source": [
    "dept = \"STAT\"\n",
    "for n in range(100, 699):\n",
    "    c = scrape_course(dept, n, sem=3)\n",
    "    \n",
    "    if c is None:\n",
    "        print(f\"{dept} {n} doesn't exist\")\n",
    "        continue\n",
    "    print(f\"Inserting {dept} {n}\")\n",
    "    \n",
    "    insert_course(c[0])\n"
   ],
   "metadata": {
    "collapsed": false,
    "is_executing": true,
    "ExecuteTime": {
     "start_time": "2023-11-01T04:24:07.805282059Z"
    }
   },
   "id": "93cfa6f4daa412a1"
  },
  {
   "cell_type": "code",
   "execution_count": null,
   "outputs": [],
   "source": [
    "(scrape_course(\"MATH\", 699)[0][\"description\"].encode(\"latin-1\").decode(\"utf-8\"))"
   ],
   "metadata": {
    "collapsed": false,
    "ExecuteTime": {
     "end_time": "2023-11-01T04:19:21.954587527Z",
     "start_time": "2023-11-01T04:19:21.942811993Z"
    }
   },
   "id": "327eaf4b8eaca1d7"
  },
  {
   "cell_type": "code",
   "execution_count": null,
   "outputs": [],
   "source": [],
   "metadata": {
    "collapsed": false
   },
   "id": "2ca3f3492edbe622"
  },
  {
   "cell_type": "code",
   "execution_count": 330,
   "outputs": [],
   "source": [
    "re.search(r\"&#160;[0-9]{1,3}[A-Za-z]{,3}:(.+)</strong>\", requests.get(\"https://catalog.iastate.edu/ribbit/?page=getcourse.rjs&code=MATH%20699C&edition=2023-24\").text, re.DOTALL)"
   ],
   "metadata": {
    "collapsed": false,
    "ExecuteTime": {
     "end_time": "2023-11-01T04:17:03.228789798Z",
     "start_time": "2023-11-01T04:17:02.868997875Z"
    }
   },
   "id": "fc64a72a6d6eae21"
  },
  {
   "cell_type": "code",
   "execution_count": 331,
   "outputs": [
    {
     "data": {
      "text/plain": "'<?xml version=\"1.0\"?>\\n<courseinfo>\\n</courseinfo>\\n'"
     },
     "execution_count": 331,
     "metadata": {},
     "output_type": "execute_result"
    }
   ],
   "source": [
    "requests.get(\"https://catalog.iastate.edu/ribbit/?page=getcourse.rjs&code=MATH%20699C&edition=2023-24\").text"
   ],
   "metadata": {
    "collapsed": false,
    "ExecuteTime": {
     "end_time": "2023-11-01T04:17:07.723903864Z",
     "start_time": "2023-11-01T04:17:07.275429233Z"
    }
   },
   "id": "fded77d21044de3"
  }
 ],
 "metadata": {
  "kernelspec": {
   "display_name": "Python 3",
   "language": "python",
   "name": "python3"
  },
  "language_info": {
   "codemirror_mode": {
    "name": "ipython",
    "version": 2
   },
   "file_extension": ".py",
   "mimetype": "text/x-python",
   "name": "python",
   "nbconvert_exporter": "python",
   "pygments_lexer": "ipython2",
   "version": "2.7.6"
  }
 },
 "nbformat": 4,
 "nbformat_minor": 5
}
