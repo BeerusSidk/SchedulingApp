{
 "cells": [
  {
   "cell_type": "code",
   "execution_count": null,
   "id": "initial_id",
   "metadata": {
    "collapsed": true
   },
   "outputs": [],
   "source": [
    "import json\n",
    "import re\n",
    "from datetime import datetime\n",
    "\n",
    "import mysql.connector\n",
    "import requests\n",
    "from mysql.connector import IntegrityError\n"
   ]
  },
  {
   "cell_type": "code",
   "execution_count": null,
   "outputs": [],
   "source": [
    "from mysql.connector import DataError\n",
    "\n",
    "\n",
    "def insert_course(course_info: dict, course_json: dict):\n",
    "    if course_info is None: return\n",
    "\n",
    "    connection = mysql.connector.connect(\n",
    "        host=\"coms-309-029.class.las.iastate.edu\",\n",
    "        port=3306,\n",
    "        user=\"root\",\n",
    "        password=\"5b36fb66f5d37314\",\n",
    "        database=\"Scheduler\"\n",
    "    )\n",
    "    cursor = connection.cursor()\n",
    "\n",
    "    sql = (\n",
    "        \"INSERT INTO Course (program_identifier, num, display_name, description, credits, is_variable_credit, is_graded)\" +\n",
    "        \"VALUES (%s, %s, %s, %s, %s, %s, %s)\"\n",
    "    )\n",
    "    values = (\n",
    "        course_info[\"program_identifier\"],\n",
    "        course_info[\"num\"],\n",
    "        course_info[\"displayName\"],\n",
    "        None if course_info[\"description\"] is None else course_info[\"description\"].encode(\"latin-1\").decode(\"utf-8\"),\n",
    "        course_info[\"credits\"],\n",
    "        course_info[\"is_variable_credit\"],\n",
    "        course_info[\"is_graded\"]\n",
    "    )\n",
    "    try:\n",
    "        cursor.execute(sql, values)\n",
    "        connection.commit()\n",
    "    except IntegrityError as e:\n",
    "        print(e.msg)\n",
    "        print(f\"Duplicate entry: {course_info['program_identifier']} {course_info['num']}\")\n",
    "\n",
    "    year = 2024\n",
    "    season = 1\n",
    "    for sec in get_sections(course_json):\n",
    "        try:\n",
    "            cursor.callproc(\"addSection\", (\n",
    "                sec[\"ref_num\"],\n",
    "                course_info[\"program_identifier\"],\n",
    "                course_info[\"num\"],\n",
    "                sec[\"section\"],\n",
    "                year,\n",
    "                season,\n",
    "                sec[\"is_online\"],\n",
    "            ))\n",
    "            connection.commit()\n",
    "        except IntegrityError:\n",
    "            print(f\"Duplicate entry: {sec['section']}\")\n",
    "        except DataError:\n",
    "            print(f\"bad data\")\n",
    "\n",
    "        for t in sec[\"schedule\"]:\n",
    "            try:\n",
    "                cursor.callproc(\"addSectionSchedule\", (\n",
    "                    course_info[\"program_identifier\"],\n",
    "                    course_info[\"num\"],\n",
    "                    sec[\"section\"],\n",
    "                    t[\"start_time\"],\n",
    "                    t[\"end_time\"],\n",
    "                    t[\"meet_days_bitmask\"],\n",
    "                    t[\"location\"],\n",
    "                    t[\"instructor\"],\n",
    "                    t[\"instruction_type\"]\n",
    "                ))\n",
    "                connection.commit()\n",
    "            except IntegrityError:\n",
    "                print(f\"Duplicate entry: {sec['section']}\")\n",
    "\n",
    "    connection.commit()\n",
    "    cursor.close()\n",
    "    connection.close()"
   ],
   "metadata": {
    "collapsed": false
   },
   "id": "34919264f813f828"
  },
  {
   "cell_type": "code",
   "execution_count": null,
   "outputs": [],
   "source": [
    "def scrape_course(program: str, num: int | str, sem: int = 3) -> list[tuple[dict, dict]] | None:\n",
    "    url = \"https://classes.iastate.edu/app/rest/courses/preferences\"\n",
    "    headers: dict = {\"Content-Type\": \"application/json\"}\n",
    "    payload: str = json.dumps({\n",
    "        \"defSem\": sem,\n",
    "        \"selectedTerm\": sem,\n",
    "        \"selectedDepartment\": program,\n",
    "        \"courseNumber\": num\n",
    "    })\n",
    "\n",
    "    response: dict = requests.post(url, headers=headers, data=payload).json()\n",
    "    if len(response[\"response\"]) == 0: return None\n",
    "\n",
    "    courses = []\n",
    "    for course_data in response[\"response\"]:\n",
    "        catalog_data: str = requests.get(course_data[\"catalogUrl\"]).text\n",
    "\n",
    "        # Don't want experimental courses\n",
    "        if course_data[\"classNumber\"][-1] == \"X\": continue\n",
    "        try:\n",
    "            courses.append(({\n",
    "                                \"program_identifier\": course_data[\"deptCode\"],\n",
    "                                \"num\": int(re.search(r\"([0-9]{1,3})[a-zA-Z]{,3}\", course_data[\"classNumber\"]).group(1)),\n",
    "                                \"displayName\": re.search(r\"&#160;[0-9]{1,3}[A-Za-z]{,3}:(.+)</strong>\", catalog_data,\n",
    "                                                         re.DOTALL).group(\n",
    "                                    1).strip() if len(catalog_data) > 55 else None,\n",
    "                                \"description\": re.search(r\"><br />(.+)</p>\", catalog_data, re.DOTALL).group(\n",
    "                                    1).strip() if len(\n",
    "                                    catalog_data) > 55 else None,\n",
    "                                \"credits\": int(course_data[\"creditLow\"]),\n",
    "                                \"is_variable_credit\": course_data[\"creditType\"] == 'V',\n",
    "                                \"is_graded\": course_data[\"gradeType\"] == \"\"\n",
    "                            }, course_data))\n",
    "        except AttributeError:\n",
    "            continue\n",
    "\n",
    "    return courses\n",
    "\n",
    "\n",
    "def meet_days_to_bitmask(s: str):\n",
    "    mask = 0\n",
    "    for c in s:\n",
    "        if c == \"M\":\n",
    "            mask |= 1\n",
    "        elif c == \"T\":\n",
    "            mask |= 2\n",
    "        elif c == \"W\":\n",
    "            mask |= 4\n",
    "        elif c == \"R\":\n",
    "            mask |= 8\n",
    "        elif c == \"F\":\n",
    "            mask |= 16\n",
    "    return mask\n",
    "\n",
    "\n",
    "def convert_time(s: str):\n",
    "    t = datetime.strptime(s, \"%H:%M:%S.%f\")\n",
    "    return t.hour * 60 + t.minute\n",
    "\n",
    "\n",
    "def get_sections(course_json: dict) -> list[dict]:\n",
    "    sections: list[dict] = []\n",
    "    for section_data in course_json[\"sections\"]:\n",
    "        is_online = None if section_data[\"deliveryTypeDisplay\"] == \"\" else \"online\" in section_data[\n",
    "            \"deliveryTypeDisplay\"]\n",
    "\n",
    "        times = []\n",
    "        for section_time in section_data[\"sectionTimes\"]:\n",
    "            location = f'{section_time[\"buildingName\"]} {section_time[\"roomNum\"]}'.strip()\n",
    "            section = section_data[\"sectionID\"].strip()\n",
    "            instructor = section_time[\"instrName\"].strip()\n",
    "            instruction_type = section_time[\"instructionType\"].strip()\n",
    "            meet_days = section_time[\"meetDays\"].strip()\n",
    "\n",
    "            times.append({\n",
    "                \"start_time\": None if is_online else convert_time(section_time[\"startTime\"]),\n",
    "                \"end_time\": None if is_online else convert_time(section_time[\"stopTime\"]),\n",
    "                \"meet_days_bitmask\": None if meet_days == \"\" else meet_days_to_bitmask(meet_days),\n",
    "                \"location\": None if location == \"\" else location,\n",
    "                \"instructor\": None if instructor == \"\" else instructor,\n",
    "                \"instruction_type\": None if instruction_type == \"\" else instruction_type\n",
    "            })\n",
    "\n",
    "        sections.append({\n",
    "            \"section\": None if section == \"\" else section,\n",
    "            \"ref_num\": section_data[\"referenceNumber\"],\n",
    "            \"is_online\": is_online,\n",
    "            \"schedule\": times\n",
    "        })\n",
    "\n",
    "    return sections"
   ],
   "metadata": {
    "collapsed": false
   },
   "id": "930f76942f59f6fc"
  },
  {
   "cell_type": "code",
   "execution_count": null,
   "outputs": [],
   "source": [
    "scrape_course(\"DS\", \"\")[0]"
   ],
   "metadata": {
    "collapsed": false
   },
   "id": "c8c706f4fc179be2"
  },
  {
   "cell_type": "code",
   "execution_count": null,
   "outputs": [],
   "source": [
    "depts = [\"DANCE\", \"DS\", \"DES\", \"DSN S\", \"DIET\",\n",
    "         \"E C P\", \"EEB\", \"EEOB\", \"ECON\", \"EDUC\", \"EDADM\", \"EL PS\", \"E E\", \"ENGR\", \"E M\", \"ENGL\", \"ENT\", \"ENTSP\",\n",
    "         \"ENV E\", \"ENSCI\", \"ENV S\", \"EVENT\", \"FCEDS\", \"FFP\", \"FIN\", \"FS HN\", \"FOR\", \"FRNCH\", \"GEN\", \"GENET\", \"GDCB\",\n",
    "         \"GEOL\", \"GER\", \"GERON\", \"GLOBE\", \"GR ST\", \"ARTGR\", \"H S\", \"HCM\", \"HG ED\", \"HIST\", \"HON\", \"HORT\", \"HSP M\",\n",
    "         \"HCI\", \"HD FS\", \"H SCI\", \"IMBIO\", \"IND D\", \"I E\", \"ARTIS\", \"IGS\", \"ARTID\", \"INTST\", \"JL MC\", \"KIN\", \"L A\",\n",
    "         \"LATIN\", \"LD ST\", \"L L S\", \"LAS\", \"LIB\", \"LING\", \"MGMT\", \"MIS\", \"MKT\", \"MAT E\", \"M S E\", \"MATH\", \"M E\",\n",
    "         \"MTEOR\", \"MICRO\", \"M S\", \"MCDB\", \"MUSIC\", \"NREM\", \"N S\", \"NEURO\", \"NRS\", \"NUTRS\", \"OTS\", \"PERF\", \"PHIL\",\n",
    "         \"PHYS\", \"PLBIO\", \"PL P\", \"POL S\", \"PORT\", \"PSYCH\", \"P R\", \"RELIG\", \"RESEV\", \"RUS\", \"STB\", \"SOC\", \"S E\", \"SPAN\",\n",
    "         \"SP ED\", \"SP CM\", \"STAT\", \"SCM\", \"SUSAG\", \"SUS E\", \"TSM\", \"THTRE\", \"TOX\", \"TRANS\", \"US LS\", \"U ST\", \"URB D\",\n",
    "         \"VDPAM\", \"V C S\", \"V MPM\", \"V PTH\", \"WESEP\", \"WISE\", \"WGS\", \"W F S\", \"WLC\", \"YTH\"\n",
    "         ]\n",
    "for dept in depts:\n",
    "    # for n in range(100, 700):\n",
    "    try:\n",
    "        courses = scrape_course(dept, \"\")\n",
    "        print(f\"got {dept}: {len(courses)}\")\n",
    "        # if courses is None:\n",
    "        #     print(f\"{dept} doesn't exist\")\n",
    "        #     continue\n",
    "        # else:\n",
    "        for c in courses:\n",
    "            print(f\"Inserting {c[0]['program_identifier']} {c[0]['num']}\")\n",
    "            insert_course(c[0], c[1])\n",
    "\n",
    "    except Exception as e:\n",
    "        print(e)\n",
    "        pass\n"
   ],
   "metadata": {
    "collapsed": false
   },
   "id": "93cfa6f4daa412a1"
  },
  {
   "cell_type": "code",
   "execution_count": null,
   "outputs": [],
   "source": [
    "(scrape_course(\"MATH\", 699)[0][\"description\"].encode(\"latin-1\").decode(\"utf-8\"))"
   ],
   "metadata": {
    "collapsed": false
   },
   "id": "327eaf4b8eaca1d7"
  },
  {
   "cell_type": "code",
   "execution_count": null,
   "outputs": [],
   "source": [
    "scrape_course(\"\", 101)"
   ],
   "metadata": {
    "collapsed": false
   },
   "id": "2ca3f3492edbe622"
  },
  {
   "cell_type": "code",
   "execution_count": null,
   "outputs": [],
   "source": [
    "re.search(r\"&#160;[0-9]{1,3}[A-Za-z]{,3}:(.+)</strong>\",\n",
    "          requests.get(\"https://catalog.iastate.edu/ribbit/?page=getcourse.rjs&code=MATH%20699C&edition=2023-24\").text,\n",
    "          re.DOTALL)"
   ],
   "metadata": {
    "collapsed": false
   },
   "id": "fc64a72a6d6eae21"
  },
  {
   "cell_type": "code",
   "execution_count": null,
   "outputs": [],
   "source": [
    "requests.get(\"https://catalog.iastate.edu/ribbit/?page=getcourse.rjs&code=CPR E%20529&edition=2023-24\").text.encode(\n",
    "    \"latin-1\").decode(\"utf-8\")"
   ],
   "metadata": {
    "collapsed": false
   },
   "id": "fded77d21044de3"
  }
 ],
 "metadata": {
  "kernelspec": {
   "display_name": "Python 3",
   "language": "python",
   "name": "python3"
  },
  "language_info": {
   "codemirror_mode": {
    "name": "ipython",
    "version": 2
   },
   "file_extension": ".py",
   "mimetype": "text/x-python",
   "name": "python",
   "nbconvert_exporter": "python",
   "pygments_lexer": "ipython2",
   "version": "2.7.6"
  }
 },
 "nbformat": 4,
 "nbformat_minor": 5
}
